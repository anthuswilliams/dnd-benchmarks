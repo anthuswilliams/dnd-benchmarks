{
 "cells": [
  {
   "cell_type": "markdown",
   "metadata": {},
   "source": [
    "# DND Benchmark Scoring\n",
    "\n",
    "This notebook is used for aggregating the scores returned from different models and prompts for a Dungeon Master for Dungeons and Dragons 5e.  "
   ]
  },
  {
   "cell_type": "code",
   "execution_count": 2,
   "metadata": {},
   "outputs": [],
   "source": [
    "import pandas as pd"
   ]
  },
  {
   "cell_type": "code",
   "execution_count": 20,
   "metadata": {},
   "outputs": [
    {
     "data": {
      "text/html": [
       "<div>\n",
       "<style scoped>\n",
       "    .dataframe tbody tr th:only-of-type {\n",
       "        vertical-align: middle;\n",
       "    }\n",
       "\n",
       "    .dataframe tbody tr th {\n",
       "        vertical-align: top;\n",
       "    }\n",
       "\n",
       "    .dataframe thead th {\n",
       "        text-align: right;\n",
       "    }\n",
       "</style>\n",
       "<table border=\"1\" class=\"dataframe\">\n",
       "  <thead>\n",
       "    <tr style=\"text-align: right;\">\n",
       "      <th></th>\n",
       "      <th></th>\n",
       "      <th>mean</th>\n",
       "      <th>std</th>\n",
       "    </tr>\n",
       "    <tr>\n",
       "      <th>model</th>\n",
       "      <th>judge_prompt</th>\n",
       "      <th></th>\n",
       "      <th></th>\n",
       "    </tr>\n",
       "  </thead>\n",
       "  <tbody>\n",
       "    <tr>\n",
       "      <th>Mistral-7B-Instruct-v0.1</th>\n",
       "      <th>\\nPlease act as an impartial judge and evaluate the quality of the response provided by an\\nAI assistant to the user question displayed below. Your evaluation should consider factors\\nsuch as the helpfulness, relevance, accuracy, depth, creativity, and level of detail of\\nthe response. Begin your evaluation by providing a short explanation. Be as objective as\\npossible. After providing your explanation, please rate the response on a scale of 1 to 10\\nby strictly following this format: \"[[rating]]\", for example: \"Rating: [[5]]\"\\n</th>\n",
       "      <td>2.35</td>\n",
       "      <td>1.460894</td>\n",
       "    </tr>\n",
       "    <tr>\n",
       "      <th>gpt-3.5-turbo</th>\n",
       "      <th>\\nPlease act as an impartial judge and evaluate the quality of the response provided by an\\nAI assistant to the user question displayed below. Your evaluation should consider factors\\nsuch as the helpfulness, relevance, accuracy, depth, creativity, and level of detail of\\nthe response. Begin your evaluation by providing a short explanation. Be as objective as\\npossible. After providing your explanation, please rate the response on a scale of 1 to 10\\nby strictly following this format: \"[[rating]]\", for example: \"Rating: [[5]]\"\\n</th>\n",
       "      <td>7.30</td>\n",
       "      <td>1.260743</td>\n",
       "    </tr>\n",
       "  </tbody>\n",
       "</table>\n",
       "</div>"
      ],
      "text/plain": [
       "                                                                             mean  \\\n",
       "model                    judge_prompt                                               \n",
       "Mistral-7B-Instruct-v0.1 \\nPlease act as an impartial judge and evaluate...  2.35   \n",
       "gpt-3.5-turbo            \\nPlease act as an impartial judge and evaluate...  7.30   \n",
       "\n",
       "                                                                                  std  \n",
       "model                    judge_prompt                                                  \n",
       "Mistral-7B-Instruct-v0.1 \\nPlease act as an impartial judge and evaluate...  1.460894  \n",
       "gpt-3.5-turbo            \\nPlease act as an impartial judge and evaluate...  1.260743  "
      ]
     },
     "execution_count": 20,
     "metadata": {},
     "output_type": "execute_result"
    }
   ],
   "source": [
    "# Read the JSON file into a pandas dataframe\n",
    "scores_df = pd.read_json('scores.json')\n",
    "\n",
    "scores_df['rating'] = scores_df['score'].str.extract(r'\\[\\[(\\d+)\\]]').astype(int)\n",
    "scores_df.groupby(['model', 'judge_prompt'])['rating'].agg(['mean', 'std'])\n"
   ]
  },
  {
   "cell_type": "code",
   "execution_count": null,
   "metadata": {},
   "outputs": [],
   "source": [
    "questions = [\n",
    "    {\n",
    "        \"question\": \"Initiative\",\n",
    "        \"should_roll\": True,\n",
    "    },\n",
    "    {\n",
    "        \"question\": \"Roll for Initiative\",\n",
    "        \"should_roll\": True,\n",
    "    },\n",
    "    {\n",
    "        \"question\": \"What is your Initiative modifier?\",\n",
    "        \"should_roll\": False\n",
    "    },\n",
    "    {\n",
    "        \"history\": [\n",
    "            \"Roll Initiative\",\n",
    "            \"Initiative Order:\\n- Player: 24\\n- You: 6\\n\\nCurrent State:\\n- Player: 7 HP\\n - You: 12 HP\"\n",
    "        ],\n",
    "        \"question\": \"What would you like to do?\",\n",
    "        \"should_roll\": False\n",
    "    },\n",
    "    {\n",
    "        \"question\": \"What is your AC?\",\n",
    "        \"should_roll\": False\n",
    "    },\n",
    "    {\n",
    "        \"question\": \"What is your Armor Class?\",\n",
    "        \"should_roll\": False\n",
    "    },\n",
    "    {\n",
    "        \"question\": \"What are your current hit points?\",\n",
    "        \"should_roll\": False\n",
    "    },\n",
    "    {\n",
    "        \"history\": [\n",
    "            \"Roll for initiative!\",\n",
    "        ],    \n",
    "        \"question\": \"The fighter swings a longsword at you. He rolled a 15. With his +4 attack roll, the total to hit is 15 + 4 = 19.\",\n",
    "        \"should_roll\": False\n",
    "    },\n",
    "    {\n",
    "        \"history\": [\n",
    "            \"Roll for initiative!\",\n",
    "        ],    \n",
    "        \"question\": \"You take 11 points of slashing damage from the player's longsword. Please update your current hit points.\",\n",
    "        \"should_roll\": False\n",
    "    },\n",
    "    {\n",
    "        \"history\": [\n",
    "            \"Roll for initiative!\",\n",
    "            \"You take 11 points of slashing damage from the player's longsword. Please update your current hit points.\",\n",
    "        ],    \n",
    "        \"question\": \"What are your current hit points?\",\n",
    "        \"should_roll\": False\n",
    "    },\n",
    "]"
   ]
  }
 ],
 "metadata": {
  "kernelspec": {
   "display_name": "Python 3",
   "language": "python",
   "name": "python3"
  },
  "language_info": {
   "codemirror_mode": {
    "name": "ipython",
    "version": 3
   },
   "file_extension": ".py",
   "mimetype": "text/x-python",
   "name": "python",
   "nbconvert_exporter": "python",
   "pygments_lexer": "ipython3",
   "version": "3.10.13"
  }
 },
 "nbformat": 4,
 "nbformat_minor": 2
}
