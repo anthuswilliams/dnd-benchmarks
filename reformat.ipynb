{
 "cells": [
  {
   "cell_type": "code",
   "execution_count": 8,
   "metadata": {},
   "outputs": [],
   "source": [
    "import json\n",
    "from openai import OpenAI\n",
    "\n",
    "client = OpenAI()"
   ]
  },
  {
   "cell_type": "code",
   "execution_count": 3,
   "metadata": {},
   "outputs": [],
   "source": [
    "skills = []"
   ]
  },
  {
   "cell_type": "code",
   "execution_count": 39,
   "metadata": {},
   "outputs": [],
   "source": [
    "system_prompt = \"\"\"\n",
    "I will provide a character sheet for Dungeons & Dragons 5th edition. You will convert it into a normally formatted character sheet, with correct skills\n",
    "and abilities calculated based on the listed ability scores, proficiencies, and expertise. If a skill is not listed on the sheet, assume the character\n",
    "is not proficient in that skill but be sure to include it in the updated sheet.\n",
    "Return the output in JSON format. Do not include any content other than your JSON response. For example:\n",
    "{\n",
    "  \"character_name\": [[name]]\n",
    "  \"abilities\": {\n",
    "    \"Wisdom\": 18,\n",
    "    \"Dexterity\": 20\n",
    "  },\n",
    "  \"skills\": {\n",
    "    \"Perception\": \"+3\",\n",
    "    \"Sleight of Hand\": \"+4\"\n",
    "  }\n",
    "}\n",
    "\"\"\""
   ]
  },
  {
   "cell_type": "code",
   "execution_count": 40,
   "metadata": {},
   "outputs": [],
   "source": [
    "with open(\"characters/formatted_characters/01_formatted.json\", \"r\") as fh:\n",
    "    sheet = json.loads(fh.read())"
   ]
  },
  {
   "cell_type": "code",
   "execution_count": 41,
   "metadata": {},
   "outputs": [],
   "source": [
    "messages = [\n",
    "    {\"role\": \"system\", \"content\": system_prompt},\n",
    "    {\n",
    "        \"role\": \"user\",\n",
    "        \"content\": f\"\"\"{sheet}\"\"\",\n",
    "    }\n",
    "]\n",
    "\n",
    "completion = client.chat.completions.create(\n",
    "    model=\"gpt-4-1106-preview\", messages=messages\n",
    ")"
   ]
  },
  {
   "cell_type": "code",
   "execution_count": 42,
   "metadata": {},
   "outputs": [
    {
     "ename": "AttributeError",
     "evalue": "'NoneType' object has no attribute 'group'",
     "output_type": "error",
     "traceback": [
      "\u001b[1;31m---------------------------------------------------------------------------\u001b[0m",
      "\u001b[1;31mAttributeError\u001b[0m                            Traceback (most recent call last)",
      "Cell \u001b[1;32mIn[42], line 3\u001b[0m\n\u001b[0;32m      1\u001b[0m \u001b[38;5;28;01mimport\u001b[39;00m \u001b[38;5;21;01mre\u001b[39;00m\n\u001b[0;32m      2\u001b[0m matches \u001b[38;5;241m=\u001b[39m re\u001b[38;5;241m.\u001b[39msearch(\u001b[38;5;124mr\u001b[39m\u001b[38;5;124m\"\u001b[39m\u001b[38;5;124m```json(.*)```\u001b[39m\u001b[38;5;124m\"\u001b[39m, completion\u001b[38;5;241m.\u001b[39mchoices[\u001b[38;5;241m0\u001b[39m]\u001b[38;5;241m.\u001b[39mmessage\u001b[38;5;241m.\u001b[39mcontent)\n\u001b[1;32m----> 3\u001b[0m \u001b[43mmatches\u001b[49m\u001b[38;5;241;43m.\u001b[39;49m\u001b[43mgroup\u001b[49m(\u001b[38;5;241m1\u001b[39m)\n",
      "\u001b[1;31mAttributeError\u001b[0m: 'NoneType' object has no attribute 'group'"
     ]
    }
   ],
   "source": [
    "import re\n",
    "matches = re.search(r\"```json(.*)```\", completion.choices[0].message.content)\n",
    "matches.group(1)"
   ]
  },
  {
   "cell_type": "code",
   "execution_count": 43,
   "metadata": {},
   "outputs": [
    {
     "data": {
      "text/plain": [
       "'```json\\n{\\n  \"character_name\": \"Geoffry Carde\",\\n  \"abilities\": {\\n    \"Strength\": 11,\\n    \"Dexterity\": 18,\\n    \"Constitution\": 12,\\n    \"Intelligence\": 10,\\n    \"Wisdom\": 14,\\n    \"Charisma\": 11\\n  },\\n  \"skills\": {\\n    \"Acrobatics\": \"+4\",\\n    \"Animal Handling\": \"+2\",\\n    \"Arcana\": \"+0\",\\n    \"Athletics\": \"+0\",\\n    \"Deception\": \"+0\",\\n    \"History\": \"+0\",\\n    \"Insight\": \"+4\",\\n    \"Intimidation\": \"+0\",\\n    \"Investigation\": \"+0\",\\n    \"Medicine\": \"+2\",\\n    \"Nature\": \"+0\",\\n    \"Perception\": \"+6\",\\n    \"Performance\": \"+2\",\\n    \"Persuasion\": \"+0\",\\n    \"Religion\": \"+0\",\\n    \"Sleight of Hand\": \"+7\",\\n    \"Stealth\": \"+4\",\\n    \"Survival\": \"+2\"\\n  },\\n  \"saving_throws\": {\\n    \"Strength\": \"+0\",\\n    \"Dexterity\": \"+6\",\\n    \"Constitution\": \"+1\",\\n    \"Intelligence\": \"+2\",\\n    \"Wisdom\": \"+2\",\\n    \"Charisma\": \"+0\"\\n  },\\n  \"proficiencies\": {\\n    \"Languages\": [\"Gnomish\", \"Common\", \"Thieves\\' Cant\"],\\n    \"Armor\": [\"Light Armor\"],\\n    \"Weapons\": [\"Rapier\", \"Longsword\", \"Simple Weapons\", \"Shortsword\", \"Crossbow, Hand\"],\\n    \"Tools\": [\"Disguise Kit\", \"Thieves\\' Tools\"]\\n  },\\n  \"expertise\": {\\n    \"Perception\": \"+6\",\\n    \"Sleight of Hand\": \"+7\"\\n  },\\n  \"class_features\": {\\n    \"Expertise\": \"At 1st level, choose two of your skill proficiencies, or one of your skill proficiencies and your proficiency with thieves\\' tools. Your proficiency bonus is doubled for any ability check you make that uses either of the chosen proficiencies.\",\\n    \"Thieves\\' Cant\": \"During your rogue training you learned thieves\\' cant, a secret mix of dialect, jargon, and code that allows you to hide messages in seemingly normal conversation.\",\\n    \"Sneak Attack\": \"Once per turn, you can deal an extra 1d6 damage to one creature you hit with an attack if you have advantage on the attack roll.\"\\n  },\\n  \"racial_traits\": {\\n    \"Darkvision\": \"You have superior vision in dark and dim conditions.\",\\n    \"Natural Illusionist\": \"You know the minor illusion cantrip.\",\\n    \"Speed\": 25,\\n    \"Gnome Cunning\": \"You have advantage on all Intelligence, Wisdom, and Charisma saving throws against magic.\"\\n  },\\n  \"spells\": {\\n    \"Minor Illusion\": \"You create a sound or an image of an object within range that lasts for the duration.\"\\n  }\\n}\\n```'"
      ]
     },
     "execution_count": 43,
     "metadata": {},
     "output_type": "execute_result"
    }
   ],
   "source": [
    "completion.choices[0].message.content"
   ]
  },
  {
   "cell_type": "code",
   "execution_count": null,
   "metadata": {},
   "outputs": [],
   "source": []
  }
 ],
 "metadata": {
  "kernelspec": {
   "display_name": "Python 3",
   "language": "python",
   "name": "python3"
  },
  "language_info": {
   "codemirror_mode": {
    "name": "ipython",
    "version": 3
   },
   "file_extension": ".py",
   "mimetype": "text/x-python",
   "name": "python",
   "nbconvert_exporter": "python",
   "pygments_lexer": "ipython3",
   "version": "3.10.11"
  }
 },
 "nbformat": 4,
 "nbformat_minor": 2
}
